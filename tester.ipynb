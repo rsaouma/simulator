{
 "cells": [
  {
   "cell_type": "code",
   "execution_count": 19,
   "metadata": {
    "collapsed": true
   },
   "outputs": [],
   "source": [
    "import pandas as pd\n",
    "import tpqoa"
   ]
  },
  {
   "cell_type": "code",
   "execution_count": 2,
   "outputs": [
    {
     "name": "stdout",
     "output_type": "stream",
     "text": [
      "Help on method get_history in module tpqoa.tpqoa:\n",
      "\n",
      "get_history(instrument, start, end, granularity, price, localize=True) method of tpqoa.tpqoa.tpqoa instance\n",
      "    Retrieves historical data for instrument.\n",
      "    \n",
      "    Parameters\n",
      "    ==========\n",
      "    instrument: string\n",
      "        valid instrument name\n",
      "    start, end: datetime, str\n",
      "        Python datetime or string objects for start and end\n",
      "    granularity: string\n",
      "        a string like 'S5', 'M1' or 'D'\n",
      "    price: string\n",
      "        one of 'A' (ask), 'B' (bid) or 'M' (middle)\n",
      "    \n",
      "    Returns\n",
      "    =======\n",
      "    data: pd.DataFrame\n",
      "        pandas DataFrame object with data\n",
      "\n"
     ]
    }
   ],
   "source": [
    "api = tpqoa.tpqoa('oanda.cfg.txt')\n",
    "help(api.get_history)"
   ],
   "metadata": {
    "collapsed": false,
    "pycharm": {
     "name": "#%%\n"
    }
   }
  },
  {
   "cell_type": "code",
   "execution_count": 3,
   "outputs": [],
   "source": [
    "import metrics"
   ],
   "metadata": {
    "collapsed": false,
    "pycharm": {
     "name": "#%%\n"
    }
   }
  },
  {
   "cell_type": "code",
   "execution_count": 5,
   "outputs": [],
   "source": [
    "df = pd.read_csv('SPY.csv')"
   ],
   "metadata": {
    "collapsed": false,
    "pycharm": {
     "name": "#%%\n"
    }
   }
  },
  {
   "cell_type": "code",
   "execution_count": 6,
   "outputs": [
    {
     "data": {
      "text/plain": "            date    open   close     low    high     volume\n0     2010-01-04  112.37  113.33  111.51  113.39  118944600\n1     2010-01-05  113.26  113.63  112.85  113.68  111579900\n2     2010-01-06  113.52  113.71  113.43  113.99  116074400\n3     2010-01-07  113.50  114.19  113.18  114.33  131091100\n4     2010-01-08  113.89  114.57  113.66  114.62  126402800\n...          ...     ...     ...     ...     ...        ...\n2511  2019-12-24  321.47  321.23  320.90  321.52   20258042\n2512  2019-12-26  321.65  322.94  321.64  322.95   29573883\n2513  2019-12-27  323.74  322.86  322.28  323.80   37791481\n2514  2019-12-30  322.95  321.08  320.55  323.10   45643299\n2515  2019-12-31  320.53  321.86  320.15  322.13   44351029\n\n[2516 rows x 6 columns]",
      "text/html": "<div>\n<style scoped>\n    .dataframe tbody tr th:only-of-type {\n        vertical-align: middle;\n    }\n\n    .dataframe tbody tr th {\n        vertical-align: top;\n    }\n\n    .dataframe thead th {\n        text-align: right;\n    }\n</style>\n<table border=\"1\" class=\"dataframe\">\n  <thead>\n    <tr style=\"text-align: right;\">\n      <th></th>\n      <th>date</th>\n      <th>open</th>\n      <th>close</th>\n      <th>low</th>\n      <th>high</th>\n      <th>volume</th>\n    </tr>\n  </thead>\n  <tbody>\n    <tr>\n      <th>0</th>\n      <td>2010-01-04</td>\n      <td>112.37</td>\n      <td>113.33</td>\n      <td>111.51</td>\n      <td>113.39</td>\n      <td>118944600</td>\n    </tr>\n    <tr>\n      <th>1</th>\n      <td>2010-01-05</td>\n      <td>113.26</td>\n      <td>113.63</td>\n      <td>112.85</td>\n      <td>113.68</td>\n      <td>111579900</td>\n    </tr>\n    <tr>\n      <th>2</th>\n      <td>2010-01-06</td>\n      <td>113.52</td>\n      <td>113.71</td>\n      <td>113.43</td>\n      <td>113.99</td>\n      <td>116074400</td>\n    </tr>\n    <tr>\n      <th>3</th>\n      <td>2010-01-07</td>\n      <td>113.50</td>\n      <td>114.19</td>\n      <td>113.18</td>\n      <td>114.33</td>\n      <td>131091100</td>\n    </tr>\n    <tr>\n      <th>4</th>\n      <td>2010-01-08</td>\n      <td>113.89</td>\n      <td>114.57</td>\n      <td>113.66</td>\n      <td>114.62</td>\n      <td>126402800</td>\n    </tr>\n    <tr>\n      <th>...</th>\n      <td>...</td>\n      <td>...</td>\n      <td>...</td>\n      <td>...</td>\n      <td>...</td>\n      <td>...</td>\n    </tr>\n    <tr>\n      <th>2511</th>\n      <td>2019-12-24</td>\n      <td>321.47</td>\n      <td>321.23</td>\n      <td>320.90</td>\n      <td>321.52</td>\n      <td>20258042</td>\n    </tr>\n    <tr>\n      <th>2512</th>\n      <td>2019-12-26</td>\n      <td>321.65</td>\n      <td>322.94</td>\n      <td>321.64</td>\n      <td>322.95</td>\n      <td>29573883</td>\n    </tr>\n    <tr>\n      <th>2513</th>\n      <td>2019-12-27</td>\n      <td>323.74</td>\n      <td>322.86</td>\n      <td>322.28</td>\n      <td>323.80</td>\n      <td>37791481</td>\n    </tr>\n    <tr>\n      <th>2514</th>\n      <td>2019-12-30</td>\n      <td>322.95</td>\n      <td>321.08</td>\n      <td>320.55</td>\n      <td>323.10</td>\n      <td>45643299</td>\n    </tr>\n    <tr>\n      <th>2515</th>\n      <td>2019-12-31</td>\n      <td>320.53</td>\n      <td>321.86</td>\n      <td>320.15</td>\n      <td>322.13</td>\n      <td>44351029</td>\n    </tr>\n  </tbody>\n</table>\n<p>2516 rows × 6 columns</p>\n</div>"
     },
     "execution_count": 6,
     "metadata": {},
     "output_type": "execute_result"
    }
   ],
   "source": [
    "df"
   ],
   "metadata": {
    "collapsed": false,
    "pycharm": {
     "name": "#%%\n"
    }
   }
  },
  {
   "cell_type": "code",
   "execution_count": 20,
   "outputs": [],
   "source": [
    "import position as pos"
   ],
   "metadata": {
    "collapsed": false,
    "pycharm": {
     "name": "#%%\n"
    }
   }
  },
  {
   "cell_type": "code",
   "execution_count": null,
   "outputs": [],
   "source": [
    "df = pd.read_csv('Data/AUD.CSV')\n",
    "df['time'] = pd.to_datetime(df['time'])\n",
    "df = df.set_index(['time'])\n",
    "print(df.head())\n",
    "units_to_trade = -10000\n",
    "for i, row in enumerate(df.itertuples()):\n",
    "    date = row.Index\n",
    "    price = row.c\n",
    "    if i == 123:\n",
    "             position = pos.Position('AUDUSD', date, price, units_to_trade)\n",
    "    elif 123< i < 534:\n",
    "             position.record_price_update(date, price)\n",
    "    elif i== 534:\n",
    "             position.exit(date,price)\n",
    "\n",
    "\n",
    "position.print_position_summary()"
   ],
   "metadata": {
    "collapsed": false,
    "pycharm": {
     "name": "#%%\n"
    }
   }
  },
  {
   "cell_type": "code",
   "execution_count": 13,
   "outputs": [
    {
     "data": {
      "text/plain": "time        2019-11-01 04:34:00\no                       0.69069\nh                       0.69069\nl                       0.69069\nc                       0.69069\nvolume                        1\ncomplete                   True\nName: 234, dtype: object"
     },
     "execution_count": 13,
     "metadata": {},
     "output_type": "execute_result"
    }
   ],
   "source": [
    "df.iloc[234]"
   ],
   "metadata": {
    "collapsed": false,
    "pycharm": {
     "name": "#%%\n"
    }
   }
  },
  {
   "cell_type": "code",
   "execution_count": 14,
   "outputs": [
    {
     "data": {
      "text/plain": "time        2019-11-01 02:08:00\no                       0.69073\nh                       0.69073\nl                       0.69073\nc                       0.69073\nvolume                        1\ncomplete                   True\nName: 123, dtype: object"
     },
     "execution_count": 14,
     "metadata": {},
     "output_type": "execute_result"
    }
   ],
   "source": [
    "df.iloc[123]"
   ],
   "metadata": {
    "collapsed": false,
    "pycharm": {
     "name": "#%%\n"
    }
   }
  },
  {
   "cell_type": "code",
   "execution_count": null,
   "outputs": [],
   "source": [],
   "metadata": {
    "collapsed": false,
    "pycharm": {
     "name": "#%%\n"
    }
   }
  },
  {
   "cell_type": "code",
   "execution_count": null,
   "outputs": [],
   "source": [],
   "metadata": {
    "collapsed": false,
    "pycharm": {
     "name": "#%%\n"
    }
   }
  },
  {
   "cell_type": "code",
   "execution_count": null,
   "outputs": [],
   "source": [],
   "metadata": {
    "collapsed": false,
    "pycharm": {
     "name": "#%%\n"
    }
   }
  },
  {
   "cell_type": "code",
   "execution_count": null,
   "outputs": [],
   "source": [],
   "metadata": {
    "collapsed": false,
    "pycharm": {
     "name": "#%%\n"
    }
   }
  }
 ],
 "metadata": {
  "kernelspec": {
   "display_name": "Python 3",
   "language": "python",
   "name": "python3"
  },
  "language_info": {
   "codemirror_mode": {
    "name": "ipython",
    "version": 2
   },
   "file_extension": ".py",
   "mimetype": "text/x-python",
   "name": "python",
   "nbconvert_exporter": "python",
   "pygments_lexer": "ipython2",
   "version": "2.7.6"
  }
 },
 "nbformat": 4,
 "nbformat_minor": 0
}